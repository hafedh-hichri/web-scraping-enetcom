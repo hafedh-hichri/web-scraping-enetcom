{
 "cells": [
  {
   "cell_type": "code",
   "execution_count": 1,
   "id": "3ca74627",
   "metadata": {},
   "outputs": [],
   "source": [
    "from bs4 import BeautifulSoup\n",
    "import requests "
   ]
  },
  {
   "cell_type": "code",
   "execution_count": 2,
   "id": "1da130b0",
   "metadata": {},
   "outputs": [],
   "source": [
    "url = \"https://boston.craigslist.org/search/sof\""
   ]
  },
  {
   "cell_type": "code",
   "execution_count": 3,
   "id": "84c69b2d",
   "metadata": {},
   "outputs": [],
   "source": [
    "response = requests.get(url)"
   ]
  },
  {
   "cell_type": "code",
   "execution_count": 4,
   "id": "a59abaa9",
   "metadata": {},
   "outputs": [
    {
     "data": {
      "text/plain": [
       "<Response [200]>"
      ]
     },
     "execution_count": 4,
     "metadata": {},
     "output_type": "execute_result"
    }
   ],
   "source": [
    "response"
   ]
  },
  {
   "cell_type": "code",
   "execution_count": 5,
   "id": "3fe701fc",
   "metadata": {},
   "outputs": [],
   "source": [
    "data = response.text"
   ]
  },
  {
   "cell_type": "code",
   "execution_count": null,
   "id": "fc62cb9c",
   "metadata": {},
   "outputs": [],
   "source": []
  }
 ],
 "metadata": {
  "kernelspec": {
   "display_name": "Python 3",
   "language": "python",
   "name": "python3"
  },
  "language_info": {
   "codemirror_mode": {
    "name": "ipython",
    "version": 3
   },
   "file_extension": ".py",
   "mimetype": "text/x-python",
   "name": "python",
   "nbconvert_exporter": "python",
   "pygments_lexer": "ipython3",
   "version": "3.8.5"
  }
 },
 "nbformat": 4,
 "nbformat_minor": 5
}
